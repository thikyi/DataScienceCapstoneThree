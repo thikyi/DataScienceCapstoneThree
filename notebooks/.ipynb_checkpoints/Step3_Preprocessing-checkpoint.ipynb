{
 "cells": [
  {
   "cell_type": "markdown",
   "id": "14d88eff",
   "metadata": {},
   "source": [
    "# Pre-processing & Modeling"
   ]
  },
  {
   "cell_type": "markdown",
   "id": "2bbbb12e",
   "metadata": {},
   "source": [
    "### Import Libaries"
   ]
  },
  {
   "cell_type": "code",
   "execution_count": null,
   "id": "99e329d5",
   "metadata": {},
   "outputs": [],
   "source": [
    "import pandas as pd\n",
    "import numpy as np\n",
    "import os\n",
    "import matplotlib.pyplot as plt\n",
    "import seaborn as sns\n",
    "import math\n",
    "from math import radians, sin, cos, sqrt, atan2\n",
    "import warnings\n",
    "warnings.simplefilter(action='ignore', category=FutureWarning)\n",
    "\n",
    "from sklearn.preprocessing import StandardScaler\n",
    "from sklearn.cluster import KMeans\n",
    "from sklearn.metrics import silhouette_score\n",
    "\n",
    "\n"
   ]
  },
  {
   "cell_type": "markdown",
   "id": "ec94259b",
   "metadata": {},
   "source": [
    "### Load Data"
   ]
  },
  {
   "cell_type": "code",
   "execution_count": null,
   "id": "41ab3380",
   "metadata": {},
   "outputs": [],
   "source": [
    "cleanfilepath = \"../data/interim/refined_data.csv\"\n",
    "df = pd.read_csv(cleanfilepath,index_col =0)"
   ]
  },
  {
   "cell_type": "code",
   "execution_count": null,
   "id": "dbbfedff",
   "metadata": {},
   "outputs": [],
   "source": [
    "df.info()"
   ]
  },
  {
   "cell_type": "markdown",
   "id": "ecff3afe",
   "metadata": {},
   "source": [
    "### Customer Segmentation "
   ]
  },
  {
   "cell_type": "code",
   "execution_count": null,
   "id": "e5ff2702",
   "metadata": {},
   "outputs": [],
   "source": [
    "# Scale the data\n",
    "scaler = StandardScaler()\n",
    "scaled_data = scaler.fit_transform(data_for_clustering)"
   ]
  },
  {
   "cell_type": "code",
   "execution_count": null,
   "id": "7e44b833",
   "metadata": {},
   "outputs": [],
   "source": []
  },
  {
   "cell_type": "code",
   "execution_count": null,
   "id": "97993ccd",
   "metadata": {},
   "outputs": [],
   "source": [
    "# Select features for clustering\n",
    "features_for_clustering = ['MonthlyRevenue', 'MonthlyMinutes', 'TotalRecurringCharge', 'DirectorAssistedCalls'\n",
    "                   , 'OverageMinutes', 'RoamingCalls', 'CustomerCareCalls', 'IncomeGroup', 'MaritalStatus', 'Occupation'\n",
    "                   , 'CityCode', 'ChildrenInHH']\n",
    "\n",
    "data_for_clustering = df[features_for_clustering]"
   ]
  },
  {
   "cell_type": "code",
   "execution_count": null,
   "id": "e1a2008a",
   "metadata": {},
   "outputs": [],
   "source": []
  },
  {
   "cell_type": "code",
   "execution_count": null,
   "id": "9faaa865",
   "metadata": {},
   "outputs": [],
   "source": [
    "# Find the optimal number of clusters using the elbow method\n",
    "inertia = []\n",
    "for i in range(1, 11):\n",
    "    kmeans = KMeans(n_clusters=i, random_state=42)\n",
    "    kmeans.fit(scaled_data)\n",
    "    inertia.append(kmeans.inertia_)\n",
    "\n",
    "# Plot the inertia to find the elbow\n",
    "plt.plot(range(1, 11), inertia)\n",
    "plt.title('Elbow Method')\n",
    "plt.xlabel('Number of clusters')\n",
    "plt.ylabel('Inertia')\n",
    "plt.show()"
   ]
  },
  {
   "cell_type": "code",
   "execution_count": null,
   "id": "46d094fd",
   "metadata": {},
   "outputs": [],
   "source": [
    "# Assuming the elbow is at k = 5, we'll use that for clustering\n",
    "optimal_clusters = 5\n",
    "kmeans = KMeans(n_clusters=optimal_clusters, random_state=42)\n",
    "cluster_labels = kmeans.fit_predict(scaled_data)"
   ]
  },
  {
   "cell_type": "code",
   "execution_count": null,
   "id": "0ab67cbb",
   "metadata": {},
   "outputs": [],
   "source": [
    "df['Cluster'] = cluster_labels\n",
    "churn_rate_by_cluster = df.groupby('Cluster')['Churn'].mean()"
   ]
  }
 ],
 "metadata": {
  "kernelspec": {
   "display_name": "Python 3 (ipykernel)",
   "language": "python",
   "name": "python3"
  },
  "language_info": {
   "codemirror_mode": {
    "name": "ipython",
    "version": 3
   },
   "file_extension": ".py",
   "mimetype": "text/x-python",
   "name": "python",
   "nbconvert_exporter": "python",
   "pygments_lexer": "ipython3",
   "version": "3.9.7"
  }
 },
 "nbformat": 4,
 "nbformat_minor": 5
}
